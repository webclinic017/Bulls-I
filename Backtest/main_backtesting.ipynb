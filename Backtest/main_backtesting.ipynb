{
 "cells": [
  {
   "cell_type": "markdown",
   "metadata": {},
   "source": [
    "### Fetch ANY stock data\n",
    "\n",
    "##### This allows you to download data of any stock until the latest day available. Make sure to login in Alice Blue before using this."
   ]
  },
  {
   "cell_type": "code",
   "execution_count": 10,
   "metadata": {},
   "outputs": [
    {
     "name": "stdout",
     "output_type": "stream",
     "text": [
      "Alice Blue Session Created!!!\n",
      "NOTE: Today's contract master file will be updated after 08:00 AM. Before 08:00 AM previous day contract file be downloaded.\n"
     ]
    }
   ],
   "source": [
    "import pandas as pd\n",
    "import numpy as np\n",
    "from db_ops import *\n",
    "from pya3 import *\n",
    "import yaml\n",
    "\n",
    "def tuple_constructor(loader, node):\n",
    "    # Convert the string representation of a tuple to a Python tuple\n",
    "    return tuple(loader.construct_sequence(node))\n",
    "\n",
    "# Register the custom constructor for PyYAML\n",
    "yaml.SafeLoader.add_constructor(u'tag:yaml.org,2002:seq', tuple_constructor)\n",
    "\n",
    "# Reading config file\n",
    "config_name='config.yml'\n",
    "with open (config_name, 'r') as file:\n",
    "    config=yaml.safe_load(file)\n",
    "\n",
    "def login_aliceB(config):\n",
    "    alice = Aliceblue(user_id=config['general_info']['alice_blue']['user_id'],api_key=config['general_info']['alice_blue']['api_key'])\n",
    "    session = alice.get_session_id() # Get Session ID\n",
    "    if session['stat'] == 'Ok':\n",
    "        print('Alice Blue Session Created!!!')\n",
    "        return alice\n",
    "    return False\n",
    "\n",
    "\n",
    "STOCKNAME = \"ABB\"\n",
    "alice = login_aliceB(config)\n",
    "data = fetchData(STOCKNAME + \".NS\")\n",
    "# MAKE SURE TO LOGIN IN ALICE BLUE\n",
    "data = fetchAdditionalData(data, \"NSE\", STOCKNAME, alice) # IF YOU NEED UPDATED DATA TILL TODAY, RUN THIS FUNCTION AFTER LOGGING IN ALICE BLUE"
   ]
  },
  {
   "cell_type": "code",
   "execution_count": 11,
   "metadata": {},
   "outputs": [
    {
     "data": {
      "text/html": [
       "<div>\n",
       "<style scoped>\n",
       "    .dataframe tbody tr th:only-of-type {\n",
       "        vertical-align: middle;\n",
       "    }\n",
       "\n",
       "    .dataframe tbody tr th {\n",
       "        vertical-align: top;\n",
       "    }\n",
       "\n",
       "    .dataframe thead th {\n",
       "        text-align: right;\n",
       "    }\n",
       "</style>\n",
       "<table border=\"1\" class=\"dataframe\">\n",
       "  <thead>\n",
       "    <tr style=\"text-align: right;\">\n",
       "      <th></th>\n",
       "      <th>Date</th>\n",
       "      <th>Open</th>\n",
       "      <th>High</th>\n",
       "      <th>Low</th>\n",
       "      <th>Close</th>\n",
       "      <th>Volume</th>\n",
       "      <th>Dividends</th>\n",
       "      <th>Stock Splits</th>\n",
       "    </tr>\n",
       "  </thead>\n",
       "  <tbody>\n",
       "    <tr>\n",
       "      <th>5239</th>\n",
       "      <td>2023-07-28 00:00:00+05:30</td>\n",
       "      <td>4424.950195</td>\n",
       "      <td>4541.950195</td>\n",
       "      <td>4410.250000</td>\n",
       "      <td>4516.200195</td>\n",
       "      <td>415070.0</td>\n",
       "      <td>0.0</td>\n",
       "      <td>0.0</td>\n",
       "    </tr>\n",
       "    <tr>\n",
       "      <th>5240</th>\n",
       "      <td>2023-07-31 00:00:00+05:30</td>\n",
       "      <td>4505.549805</td>\n",
       "      <td>4608.000000</td>\n",
       "      <td>4505.549805</td>\n",
       "      <td>4552.799805</td>\n",
       "      <td>254120.0</td>\n",
       "      <td>0.0</td>\n",
       "      <td>0.0</td>\n",
       "    </tr>\n",
       "    <tr>\n",
       "      <th>5241</th>\n",
       "      <td>2023-08-01 00:00:00+05:30</td>\n",
       "      <td>4578.750000</td>\n",
       "      <td>4589.299805</td>\n",
       "      <td>4498.000000</td>\n",
       "      <td>4519.649902</td>\n",
       "      <td>119691.0</td>\n",
       "      <td>0.0</td>\n",
       "      <td>0.0</td>\n",
       "    </tr>\n",
       "    <tr>\n",
       "      <th>5242</th>\n",
       "      <td>2023-08-02 00:00:00+05:30</td>\n",
       "      <td>4508.000000</td>\n",
       "      <td>4557.000000</td>\n",
       "      <td>4380.000000</td>\n",
       "      <td>4408.000000</td>\n",
       "      <td>217964.0</td>\n",
       "      <td>0.0</td>\n",
       "      <td>0.0</td>\n",
       "    </tr>\n",
       "    <tr>\n",
       "      <th>5243</th>\n",
       "      <td>2023-08-03 00:00:00+05:30</td>\n",
       "      <td>4408.000000</td>\n",
       "      <td>4438.000000</td>\n",
       "      <td>4325.000000</td>\n",
       "      <td>4372.950000</td>\n",
       "      <td>195937.0</td>\n",
       "      <td>NaN</td>\n",
       "      <td>NaN</td>\n",
       "    </tr>\n",
       "  </tbody>\n",
       "</table>\n",
       "</div>"
      ],
      "text/plain": [
       "                          Date         Open         High          Low  \\\n",
       "5239 2023-07-28 00:00:00+05:30  4424.950195  4541.950195  4410.250000   \n",
       "5240 2023-07-31 00:00:00+05:30  4505.549805  4608.000000  4505.549805   \n",
       "5241 2023-08-01 00:00:00+05:30  4578.750000  4589.299805  4498.000000   \n",
       "5242 2023-08-02 00:00:00+05:30  4508.000000  4557.000000  4380.000000   \n",
       "5243 2023-08-03 00:00:00+05:30  4408.000000  4438.000000  4325.000000   \n",
       "\n",
       "            Close    Volume  Dividends  Stock Splits  \n",
       "5239  4516.200195  415070.0        0.0           0.0  \n",
       "5240  4552.799805  254120.0        0.0           0.0  \n",
       "5241  4519.649902  119691.0        0.0           0.0  \n",
       "5242  4408.000000  217964.0        0.0           0.0  \n",
       "5243  4372.950000  195937.0        NaN           NaN  "
      ]
     },
     "execution_count": 11,
     "metadata": {},
     "output_type": "execute_result"
    }
   ],
   "source": [
    "data.tail()"
   ]
  },
  {
   "cell_type": "markdown",
   "metadata": {},
   "source": [
    "# BackTesting"
   ]
  },
  {
   "cell_type": "markdown",
   "metadata": {},
   "source": [
    "### Create scorecard variables and Buy/Sell flags\n",
    "\n",
    "##### This will create a csv file named 'Backtest_action_tables.csv' which will have scorecard variables along with Buy/Sell flag for the period mentioned in the config file"
   ]
  },
  {
   "cell_type": "code",
   "execution_count": 1,
   "metadata": {},
   "outputs": [
    {
     "name": "stdout",
     "output_type": "stream",
     "text": [
      "Alice Blue Session Created!!!\n",
      "Session ID:  {'stat': 'Ok', 'sessionID': 'aSQ41H7S0N2HvW7VIXMNiySzVu5jDHJlZrkOfbCzLcn5vte1moNMBrNDO3hiEKAv4tHVyjRtI3f9Po8eAXPsQb6fMrykcStL4lRJ4ReLENVRUdUhqe3GFScgMBtlvOGHcMz0REL08Vv8P4XLesRDE0aaFnDaNOtXbyHPzpKH91LFzC2rJAdLjDvxMOtnJMuDBMJBx1EFXSdXHlJWqroZct7G1kJzeE93leHibO4Z7WyLd01xloR0rHpGZkGJsWtM'}\n",
      "ABB\n",
      "ACC\n",
      "ADANIENT\n",
      "ADANIGREEN\n",
      "ADANIPORTS\n",
      "ATGL\n",
      "ADANITRANS\n",
      "AWL\n",
      "AMBUJACEM\n",
      "APOLLOHOSP\n"
     ]
    }
   ],
   "source": [
    "from scorecard_backtest import *\n",
    "\n",
    "main()"
   ]
  },
  {
   "cell_type": "markdown",
   "metadata": {},
   "source": [
    "### Backtesting\n",
    "\n",
    "##### This will perform the backtesting by taking the action table created above as input. It will store the trades takes, transactions done, profits and cash info accordingly."
   ]
  },
  {
   "cell_type": "code",
   "execution_count": 2,
   "metadata": {},
   "outputs": [
    {
     "name": "stdout",
     "output_type": "stream",
     "text": [
      "Action table had zero Sell flag\n",
      "Backtesting has been completed!\n"
     ]
    }
   ],
   "source": [
    "import warnings\n",
    "from backtest import *\n",
    "warnings.filterwarnings('ignore')\n",
    "\n",
    "action_table = pd.read_csv('Backtest_action_tables.csv')\n",
    "obj = Backtest(investment=100000)\n",
    "obj.fit(action_table)"
   ]
  },
  {
   "cell_type": "markdown",
   "metadata": {},
   "source": [
    "### Scorecard performance band wise"
   ]
  },
  {
   "cell_type": "code",
   "execution_count": 3,
   "metadata": {},
   "outputs": [
    {
     "name": "stdout",
     "output_type": "stream",
     "text": [
      "Action table had zero Sell flag\n"
     ]
    }
   ],
   "source": [
    "obj.get_scorecard_performance()"
   ]
  },
  {
   "cell_type": "markdown",
   "metadata": {},
   "source": [
    "### List of trades taken"
   ]
  },
  {
   "cell_type": "code",
   "execution_count": 4,
   "metadata": {},
   "outputs": [
    {
     "data": {
      "text/plain": [
       "[]"
      ]
     },
     "execution_count": 4,
     "metadata": {},
     "output_type": "execute_result"
    }
   ],
   "source": [
    "obj.trades"
   ]
  },
  {
   "cell_type": "markdown",
   "metadata": {},
   "source": [
    "### List of transactions"
   ]
  },
  {
   "cell_type": "code",
   "execution_count": 5,
   "metadata": {},
   "outputs": [
    {
     "data": {
      "text/plain": [
       "[{'Action': 'Buy', 'Name': 'ABB', 'Price': 1687.95556640625, 'Qty': 1.0},\n",
       " {'Action': 'Buy', 'Name': 'ADANIENT', 'Price': 1418.227783203125, 'Qty': 2.0},\n",
       " {'Action': 'Buy',\n",
       "  'Name': 'ADANIGREEN',\n",
       "  'Price': 882.2999877929688,\n",
       "  'Qty': 3.0},\n",
       " {'Action': 'Buy',\n",
       "  'Name': 'ADANIPORTS',\n",
       "  'Price': 665.3862915039062,\n",
       "  'Qty': 5.0},\n",
       " {'Action': 'Buy', 'Name': 'ATGL', 'Price': 892.12255859375, 'Qty': 3.0},\n",
       " {'Action': 'Buy',\n",
       "  'Name': 'ADANITRANS',\n",
       "  'Price': 893.4500122070312,\n",
       "  'Qty': 3.0},\n",
       " {'Action': 'Buy', 'Name': 'ACC', 'Price': 2305.93310546875, 'Qty': 4.0},\n",
       " {'Action': 'Buy',\n",
       "  'Name': 'AMBUJACEM',\n",
       "  'Price': 397.9391479492188,\n",
       "  'Qty': 25.0},\n",
       " {'Action': 'Buy',\n",
       "  'Name': 'APOLLOHOSP',\n",
       "  'Price': 4016.11083984375,\n",
       "  'Qty': 2.0},\n",
       " {'Action': 'Buy', 'Name': 'AWL', 'Price': 268.25, 'Qty': 4.0}]"
      ]
     },
     "execution_count": 5,
     "metadata": {},
     "output_type": "execute_result"
    }
   ],
   "source": [
    "obj.transactions"
   ]
  },
  {
   "cell_type": "markdown",
   "metadata": {},
   "source": [
    "# SCORECARD VARIABLES\n",
    "#### IF you need to create just scorecard variables then use below code\n",
    "#### data = OHLC Data of any stock"
   ]
  },
  {
   "cell_type": "code",
   "execution_count": null,
   "metadata": {},
   "outputs": [],
   "source": [
    "from scorecard import *\n",
    "\n",
    "data = create_scorecard_variables(data)"
   ]
  }
 ],
 "metadata": {
  "kernelspec": {
   "display_name": "base",
   "language": "python",
   "name": "python3"
  },
  "language_info": {
   "codemirror_mode": {
    "name": "ipython",
    "version": 3
   },
   "file_extension": ".py",
   "mimetype": "text/x-python",
   "name": "python",
   "nbconvert_exporter": "python",
   "pygments_lexer": "ipython3",
   "version": "3.9.12"
  },
  "orig_nbformat": 4
 },
 "nbformat": 4,
 "nbformat_minor": 2
}
